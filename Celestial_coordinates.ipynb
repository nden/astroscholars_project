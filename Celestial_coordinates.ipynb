{
 "cells": [
  {
   "cell_type": "markdown",
   "metadata": {},
   "source": [
    "## Celestial Coordinates"
   ]
  },
  {
   "cell_type": "markdown",
   "metadata": {},
   "source": [
    "- The celestial sphere\n",
    "- RA, DEC\n",
    "- ICRS\n",
    "- Compute RA, DEC of the sources in the image.\n",
    "- Use `astropy.coordinates` to transform RA, DEC to Galactic coordinates\n",
    "- Overlay galactic grid over the wcsaxes image\n",
    "- Clean up notebook and get it ready for presentation"
   ]
  },
  {
   "cell_type": "markdown",
   "metadata": {},
   "source": [
    "#### The Celestial System\n",
    "\n",
    "\n",
    "A useful construct for describing locations of objects in the sky is the celestial sphere, which is considered to have an infinite radius. The center of the earth is the center of the celestial sphere, and the sphere's pole and equatorial plane are coincident with those of the earth. We can specify precise location of objects on the celestial sphere by giving the celestial equivalent of their latitudes and longitudes.\n",
    "\n",
    "The point on the celestial sphere directly overhead for an observer is the zenith. An imaginary arc passing through the celestial poles and through the zenith is called the observer's meridian. The nadir is the direction opposite the zenith: for example, straight down from a spacecraft to the center of the planet.\n",
    "\n",
    "Another important feature intersecting the celestial sphere is the **ecliptic** plane. This is the plane in which the Earth orbits the sun, 23.4° from the celestial equator. The great circle marking the intersection of the ecliptic plane on the celestial sphere is where the sun and planets appear to travel, and it's where the Sun and Moon converge during their eclipses (hence the name).\n"
   ]
  },
  {
   "cell_type": "code",
   "execution_count": null,
   "metadata": {},
   "outputs": [],
   "source": [
    "from IPython.display import Image\n",
    "Image('celestial_sphere.jpg')\n"
   ]
  },
  {
   "cell_type": "markdown",
   "metadata": {},
   "source": [
    "#### Declination and Right Ascension\n",
    "\n",
    "**Declination** (`DEC`) is the celestial sphere's equivalent of latitude and it is expressed in degrees, as is latitude. For DEC, + and - refer to north and south, respectively. The celestial equator is 0° DEC, and the poles are +90° and -90°.\n",
    "\n",
    "**Right ascension** `RA` is the celestial equivalent of longitude. RA can be expressed in degrees, but it is more common to specify it in hours, minutes, and seconds of time: the sky appears to turn 360° in 24 hours, or 15° in one hour. So an hour of RA equals 15° of sky rotation.\n",
    "\n",
    "The zero point for `RA` is one of the points where the ecliptic circle intersects the celestial equator circle. It's defined to be the point where the sun crosses into the northern hemisphere beginning spring: the **vernal equinox**, also known as the first point of Aries, often identified by the symbol of the ram.\n",
    "\n",
    "The RA and DEC of an object specify its position uniquely on the celestial sphere just as the latitude and longitude do for an object on the Earth's surface. For example, the very bright star Sirius has celestial coordinates 6 hr 45 min RA and -16° 43' DEC."
   ]
  },
  {
   "cell_type": "code",
   "execution_count": null,
   "metadata": {},
   "outputs": [],
   "source": [
    "Image('celestial_coords.jpg')"
   ]
  },
  {
   "cell_type": "markdown",
   "metadata": {},
   "source": [
    "#### The International Celestial Reference System\n",
    "\n",
    "The International Celestial Reference System (ICRS) is the fundamental celestial reference system that has been adopted by the International Astronomical Union (IAU) for high-precision positional astronomy. The ICRS, with its origin at the solar system barycenter and \"space fixed\" axis directions, is meant to represent the most appropriate coordinate system for positions and motions of celestial objects. RA and DEC measurements can be transformed to the ICRS sytem."
   ]
  },
  {
   "cell_type": "code",
   "execution_count": null,
   "metadata": {},
   "outputs": [],
   "source": [
    "from astropy import coordinates as coord\n",
    "import astropy.units as u\n",
    "import matplotlib.pyplot as plt\n",
    "%matplotlib inline\n",
    "#%matplotlib notebook"
   ]
  },
  {
   "cell_type": "code",
   "execution_count": null,
   "metadata": {},
   "outputs": [],
   "source": [
    "from astropy.io import fits\n",
    "from astropy import table\n",
    "\\"
   ]
  },
  {
   "cell_type": "markdown",
   "metadata": {},
   "source": [
    "#### Transform x, y to celestial coordinates\n",
    "\n",
    "Let's go back to our image and the sources we identified in it yesterday.\n",
    "In this section we will read the X, Y coordinates from the file `sources.csv` and will compute the corresponding celestial coordinates.\n",
    "\n",
    "`astropy.Table.read` can read files in several different formats, including `csv`."
   ]
  },
  {
   "cell_type": "code",
   "execution_count": null,
   "metadata": {},
   "outputs": [],
   "source": [
    "sources = table.Table.read('sources.csv')"
   ]
  },
  {
   "cell_type": "markdown",
   "metadata": {},
   "source": [
    "The variable `sources` is of type `astropy.table.Table`. We can access items in the table using row indices or column names. Let's look at the first 5 rows of the table:"
   ]
  },
  {
   "cell_type": "code",
   "execution_count": null,
   "metadata": {},
   "outputs": [],
   "source": [
    "sources[0:5]"
   ]
  },
  {
   "cell_type": "markdown",
   "metadata": {},
   "source": [
    "Now let's see what the names of the columns are and read the columns storing the `x` (\"xcentroid\") and `y` (\"ycentroid) coordinates of the objects."
   ]
  },
  {
   "cell_type": "code",
   "execution_count": null,
   "metadata": {},
   "outputs": [],
   "source": [
    "print(sources.colnames)"
   ]
  },
  {
   "cell_type": "code",
   "execution_count": null,
   "metadata": {},
   "outputs": [],
   "source": [
    "x, y = sources['xcentroid'], sources['ycentroid']"
   ]
  },
  {
   "cell_type": "markdown",
   "metadata": {},
   "source": [
    "Let's play with the `print` function to display the 2 table columns in different ways."
   ]
  },
  {
   "cell_type": "code",
   "execution_count": null,
   "metadata": {},
   "outputs": [],
   "source": [
    "#print(\"x, y columns: \", x, y)\n",
    "# print(\"x, y columns:\")\n",
    "# print(x, y)\n",
    "\n",
    "#for i in range(len(x)):\n",
    "#    print(x[i], y[i])\n",
    "    \n",
    "\n",
    "##for i in range(len(x)):\n",
    "##    print(x[i], \"\\t\", y[i])"
   ]
  },
  {
   "cell_type": "markdown",
   "metadata": {},
   "source": [
    "Now that we have the locations of the stars in pixels on the image we will look at how to compute their coordinates on the celestial sphere. Every HST image comes with information about the celestial coordinates of the point the telescope was \"looking at\" (or pointing) at the time the observation was taken. This informaton is saved in keywords in the FITS file header of the `SCI` extension. What the specific keywords are is irrelevant at the moment. What's important it that the keywords are standardized and there are libraries which can read, interpret them and perform the transformation. One such library is in the `astropy` package and is called `wcs`. The acronym `wcs` stands for \"World Coordinate System\". In order to use it we need to import it."
   ]
  },
  {
   "cell_type": "code",
   "execution_count": null,
   "metadata": {},
   "outputs": [],
   "source": [
    "from astropy import wcs"
   ]
  },
  {
   "cell_type": "markdown",
   "metadata": {},
   "source": [
    "Next we will open the FITS file we worked with yesterday and pass the header of the `SCI` extension (HDU 1) to the WCS function. "
   ]
  },
  {
   "cell_type": "code",
   "execution_count": null,
   "metadata": {},
   "outputs": [],
   "source": [
    "f = fits.open('ib2j02020_drz.fits')\n",
    "w = wcs.WCS(f[1].header)"
   ]
  },
  {
   "cell_type": "markdown",
   "metadata": {},
   "source": [
    "Now we are ready to transform the x, y, coordinates from the image Cartesian coordinate system to the spherical celestial coordinate system."
   ]
  },
  {
   "cell_type": "code",
   "execution_count": null,
   "metadata": {},
   "outputs": [],
   "source": [
    "sky_coord = w.pixel_to_world(x, y)"
   ]
  },
  {
   "cell_type": "code",
   "execution_count": null,
   "metadata": {},
   "outputs": [],
   "source": [
    "print(type(sky_coord))\n",
    "sky_coord"
   ]
  },
  {
   "cell_type": "code",
   "execution_count": null,
   "metadata": {},
   "outputs": [],
   "source": [
    "sky_coord.frame"
   ]
  },
  {
   "cell_type": "code",
   "execution_count": null,
   "metadata": {},
   "outputs": [],
   "source": [
    "ra = sky_coord.data.lon\n",
    "print('ra', ra)"
   ]
  },
  {
   "cell_type": "code",
   "execution_count": null,
   "metadata": {},
   "outputs": [],
   "source": [
    "dec = sky_coord.spherical.lat\n",
    "print('dec', dec)"
   ]
  },
  {
   "cell_type": "markdown",
   "metadata": {},
   "source": [
    "#### Matplotlib\n",
    "\n",
    "`Matplotlib` is a plotting library for the `Python` programming language and its numerical mathematics extension `NumPy`. \n",
    "\n",
    "https://matplotlib.org/\n",
    "\n",
    "We've used the `imshow` command yesterday to display an image. Today we will use the `scatter` command to create a scatter plot of the coordinates. A \"scatter\" plot is a type of plot or mathematical diagram using Cartesian coordinates to display values for typically two variables for a set of data. "
   ]
  },
  {
   "cell_type": "code",
   "execution_count": null,
   "metadata": {},
   "outputs": [],
   "source": [
    "%matplotlib inline\n",
    "%matplotlib notebook\n",
    "ax = plt.subplot(projection=w)\n",
    "ax.imshow(f[1].data, vmin=.1, vmax=.5, cmap='Greys', origin='lower', aspect='auto')\n",
    "ax.scatter(ra, dec, transform=ax.get_transform('world'))\n",
    "ax.coords[0].set_format_unit(u.degree)"
   ]
  },
  {
   "cell_type": "code",
   "execution_count": null,
   "metadata": {},
   "outputs": [],
   "source": [
    "ax.grid(color='green', ls='solid')"
   ]
  },
  {
   "cell_type": "markdown",
   "metadata": {},
   "source": [
    "The `astropy.coordinates` package allows transforming betweek standard coordinate systems. For example, we can transform to `Galactic` cooridnates."
   ]
  },
  {
   "cell_type": "code",
   "execution_count": null,
   "metadata": {},
   "outputs": [],
   "source": [
    "sky_coord.galactic\n"
   ]
  },
  {
   "cell_type": "markdown",
   "metadata": {},
   "source": [
    "If we overlay the grid of ther Galactic coordinate system the difference between the two systems is obvious."
   ]
  },
  {
   "cell_type": "code",
   "execution_count": null,
   "metadata": {},
   "outputs": [],
   "source": [
    "overlay=ax.get_coords_overlay('galactic') \n",
    "overlay.grid(color='red', linestyle='solid', alpha=0.5)"
   ]
  },
  {
   "cell_type": "code",
   "execution_count": null,
   "metadata": {},
   "outputs": [],
   "source": []
  }
 ],
 "metadata": {
  "kernelspec": {
   "display_name": "Python 3",
   "language": "python",
   "name": "python3"
  },
  "language_info": {
   "codemirror_mode": {
    "name": "ipython",
    "version": 3
   },
   "file_extension": ".py",
   "mimetype": "text/x-python",
   "name": "python",
   "nbconvert_exporter": "python",
   "pygments_lexer": "ipython3",
   "version": "3.7.4"
  }
 },
 "nbformat": 4,
 "nbformat_minor": 2
}
