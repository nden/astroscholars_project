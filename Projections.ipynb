{
 "cells": [
  {
   "cell_type": "markdown",
   "metadata": {},
   "source": [
    "## Projections"
   ]
  },
  {
   "cell_type": "markdown",
   "metadata": {},
   "source": [
    "- How are locations on the sphere transformed to locations on a plane (image)?\n",
    "- Projections\n",
    "- Write code which creates a tangent projection, wraps it in a WCS object and displays it using matplotlib.\n",
    "- Rewrite the code to use functions"
   ]
  },
  {
   "cell_type": "code",
   "execution_count": null,
   "metadata": {},
   "outputs": [],
   "source": [
    "from matplotlib import pyplot as plt\n",
    "%matplotlib inline"
   ]
  },
  {
   "cell_type": "markdown",
   "metadata": {},
   "source": [
    "We found the locations of stars in our HST image in the image Cartesian coordinate system.\n",
    "We also were able to compute the locations of the same stars on the celestial sphere, in one of the standard celestial coordinate systems. We are going to look now at how to transform from coordinates on a sphere to coordinates on a plane (the image) and back.\n",
    "\n",
    "\n",
    "The transformation of points on a sphere to plane is called spherical projection. There are many types of spherical projection. HST uses a tangent (called also gnomonic) projection.\n",
    "\n",
    "The geometry of a tangent projection is shown below using matplotlib calls."
   ]
  },
  {
   "cell_type": "code",
   "execution_count": null,
   "metadata": {},
   "outputs": [],
   "source": [
    "ax = plt.subplot()\n",
    "circle = plt.Circle((.5, .5), .2, fill=False)\n",
    "line1 = plt.Line2D([.3, .3], [.2, .8])\n",
    "line2 = plt.Line2D([.5, .3], [.5, .7])\n",
    "line3 = plt.Line2D([.5, .3], [.5, .5])\n",
    "ax.add_patch(circle)\n",
    "ax.add_line(line1)\n",
    "ax.add_line(line2)\n",
    "ax.add_line(line3)\n",
    "ax.text(.2, .9, \"Tangent plane\") \n",
    "t = ax.text(.6, .7, \"Celestial sphere\")    "
   ]
  },
  {
   "cell_type": "markdown",
   "metadata": {},
   "source": [
    "Since the projection is from the center of the sphere, all great circles are\n",
    "projected as straight lines.\n",
    "\n",
    "Mathematically the tangent projeciton is defined as \n",
    "\n",
    "```\n",
    "x = sin(lon) / tan(lat)\n",
    "y = - cos(lon) / tan(lat)\n",
    "```\n",
    "\n",
    "You can implement the tangent projection as an exercise using numpy functions.\n",
    "\n",
    "The most comonly used projection transforms are coded in astropy. We will use the astropy code to create plots of the projections."
   ]
  },
  {
   "cell_type": "markdown",
   "metadata": {},
   "source": [
    "HST uses the tangent projection. The projections in astropy are in the *modeling* subpackage, so we need to import it first. Usually the process of transforming coordinates from a sphere to a plane is called *projection* and the reverse transformation - from plane to sphere - is called *deprojection*. There are classes in modeling corresponding to projection, which are prefixed with `Sky2Pix_` followed by the projection code. The deprojection classes are prefixed with `Pix2Sky_`, followed by the projection code. The projection code is a 3 character string, an alias for the projection. For the tangen projection it is `TAN`."
   ]
  },
  {
   "cell_type": "code",
   "execution_count": null,
   "metadata": {},
   "outputs": [],
   "source": [
    "from astropy.modeling.models import *\n",
    "\n",
    "tan = Pix2Sky_TAN()\n",
    "\n",
    "#tan(1,1)"
   ]
  },
  {
   "cell_type": "markdown",
   "metadata": {},
   "source": [
    "The following code is boilerplate code that we will use to wrap the projection transform before passing it to the plotting routine."
   ]
  },
  {
   "cell_type": "code",
   "execution_count": null,
   "metadata": {},
   "outputs": [],
   "source": [
    "from gwcs import coordinate_frames as cf, WCS as GWCS\n",
    "from astropy import coordinates as coord\n",
    "import astropy.units as u"
   ]
  },
  {
   "cell_type": "code",
   "execution_count": null,
   "metadata": {},
   "outputs": [],
   "source": [
    "det = cf.Frame2D(name=\"image_frame\", unit=(u.deg, u.deg))\n",
    "icrs = coord.ICRS()\n",
    "world = cf.CelestialFrame(name=\"sky_frame\", reference_frame=icrs)\n",
    "pipeline = [(det, tan),\n",
    "            (world, None)]\n",
    "gw = GWCS(pipeline)"
   ]
  },
  {
   "cell_type": "markdown",
   "metadata": {},
   "source": [
    "`None` is a special Python keyword, used to define a null variable."
   ]
  },
  {
   "cell_type": "code",
   "execution_count": null,
   "metadata": {},
   "outputs": [],
   "source": [
    "ax = plt.subplot(projection=gw)\n",
    "ax.grid(color='blue', ls='solid')\n",
    "ax.coords[0].set_format_unit(u.degree)\n",
    "ax.set_xlim(-180, 180)\n",
    "ax.set_ylim(-90, 120)\n",
    "ax.coords[0].set_ticks(spacing=15*u.deg, color='k')\n",
    "ax.coords[1].set_ticks(spacing=15*u.deg, color='k')"
   ]
  },
  {
   "cell_type": "markdown",
   "metadata": {},
   "source": [
    "If I want to write the same"
   ]
  },
  {
   "cell_type": "code",
   "execution_count": null,
   "metadata": {},
   "outputs": [],
   "source": [
    "def create_projection(prj_code):\n",
    "    \"\"\" Given a projection code create and return the projection object\"\"\"\n",
    "    "
   ]
  },
  {
   "cell_type": "code",
   "execution_count": null,
   "metadata": {},
   "outputs": [],
   "source": [
    "def wrap_projection(projection):\n",
    "    \"\"\" Given a projection object wrap it in a GWCS object. \"\"\"\n"
   ]
  },
  {
   "cell_type": "code",
   "execution_count": null,
   "metadata": {},
   "outputs": [],
   "source": [
    "def view_projection(proj):\n",
    "    \"\"\" Given a projection object make a plot on a gird.\"\"\"\n"
   ]
  },
  {
   "cell_type": "code",
   "execution_count": null,
   "metadata": {},
   "outputs": [],
   "source": []
  }
 ],
 "metadata": {
  "kernelspec": {
   "display_name": "Python 3",
   "language": "python",
   "name": "python3"
  },
  "language_info": {
   "codemirror_mode": {
    "name": "ipython",
    "version": 3
   },
   "file_extension": ".py",
   "mimetype": "text/x-python",
   "name": "python",
   "nbconvert_exporter": "python",
   "pygments_lexer": "ipython3",
   "version": "3.7.4"
  }
 },
 "nbformat": 4,
 "nbformat_minor": 2
}
