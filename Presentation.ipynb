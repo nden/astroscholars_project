{
 "cells": [
  {
   "cell_type": "code",
   "execution_count": null,
   "metadata": {},
   "outputs": [],
   "source": [
    "from astropy.modeling import projections\n",
    "\n",
    "def create_projection(prj_code):\n",
    "    \"\"\" Given a projection code create and return the projection object\"\"\"\n",
    "    # The projections code is in astropy.modeling.projections\n",
    "    # We need to import this module first\n",
    "    \n",
    "    # Projection codes are 3 character strings.\n",
    "    # The available codes are in a list called ``projcodes``.\n",
    "    # Raise an error if the passed in prj_code is not available\n",
    "    \n",
    "    \n",
    "    # Create a projection object using Pix2Sky_<prj_code>\n",
    "    s = 'Pix2Sky_' + prj_code\n",
    "    prj_class = getattr(projections, s)\n",
    "    projection = prj_class()\n",
    "    return projection"
   ]
  },
  {
   "cell_type": "code",
   "execution_count": null,
   "metadata": {},
   "outputs": [],
   "source": [
    "from gwcs import coordinate_frames as cf, wcs\n",
    "from astropy import units as u\n",
    "from astropy import coordinates as coord\n",
    "\n",
    "def wrap_projection(projection):\n",
    "    \"\"\" Given a projection object wrap it in a GWCS object. \"\"\"\n",
    "    # Create a coordinate frame object associated with the image.\n",
    "    det = cf.Frame2D(name='image_frame', unit=(u.deg, u.deg))\n",
    "\n",
    "    # Create a coordinate frame object associated with the sky.\n",
    "    icrs = coord.ICRS()\n",
    "    world = cf.CelestialFrame(name='sky_frame', reference_frame=icrs)\n",
    "    \n",
    "    # Create a list of tuples of size 2 (frame, transform)\n",
    "    pipeline = [(det, projection),\n",
    "                (world, None)\n",
    "               ]\n",
    "    # Wrap the list in a WCS object which matplotlib understands\n",
    "    gw = wcs.WCS(pipeline)\n",
    "    return gw"
   ]
  },
  {
   "cell_type": "code",
   "execution_count": null,
   "metadata": {},
   "outputs": [],
   "source": [
    "from matplotlib import pyplot as plt\n",
    "\n",
    "def view_projection(proj):\n",
    "    \"\"\" Given a projection object make a plot on a gird.\"\"\"\n",
    "    ax = plt.subplot(projection=proj)\n",
    "    ax.grid(color='blue', ls='solid')\n",
    "    ax.coords[0].set_format_unit(u.degree)\n",
    "    ax.coords[0].coord_wrap = 180\n",
    "    ax.set_xlim(-180, 180)\n",
    "    ax.set_ylim(-90, 120)\n",
    "    ax.coords[0].set_ticks(spacing=15*u.deg, color='k')\n",
    "    ax.coords[1].set_ticks(spacing=15*u.deg, color='k')"
   ]
  },
  {
   "cell_type": "code",
   "execution_count": null,
   "metadata": {},
   "outputs": [],
   "source": []
  },
  {
   "cell_type": "markdown",
   "metadata": {},
   "source": [
    "The Mollweide projection is an equal-area, map projection generally used for global maps of the world or night sky. The projection trades accuracy of angle and shape for accuracy of proportions in area, and as such is used where that property is needed, such as maps depicting global distributions.\n",
    "\n",
    "The code in astropy for the Molwede projection is `MOL`.\n",
    "\n",
    "Use the functions to display a grid using the Molwede projection."
   ]
  },
  {
   "cell_type": "code",
   "execution_count": null,
   "metadata": {},
   "outputs": [],
   "source": [
    "projection = create_projection(\"MOL\")\n",
    "gw = wrap_projection(projection)\n",
    "view_projection(gw)"
   ]
  },
  {
   "cell_type": "markdown",
   "metadata": {},
   "source": [
    "The Bonne projection is an equal-area map projection. The Bonne projection maintains accurate shapes of areas along the central meridian and the standard parallel, but progressively distorts away from those regions. Thus, it best maps \"t\"-shaped regions. It has been used extensively for maps of Europe and Asia.\n",
    "\n",
    "The code in astropy for the Bonne projection is `BON`.\n",
    "\n",
    "Use the functions to display a grid using the Bonne projection."
   ]
  },
  {
   "cell_type": "code",
   "execution_count": null,
   "metadata": {},
   "outputs": [],
   "source": [
    "projection = create_projection(\"BON\")\n",
    "gw = wrap_projection(projection)\n",
    "view_projection(gw)"
   ]
  },
  {
   "cell_type": "code",
   "execution_count": null,
   "metadata": {},
   "outputs": [],
   "source": []
  }
 ],
 "metadata": {
  "kernelspec": {
   "display_name": "Python 3",
   "language": "python",
   "name": "python3"
  },
  "language_info": {
   "codemirror_mode": {
    "name": "ipython",
    "version": 3
   },
   "file_extension": ".py",
   "mimetype": "text/x-python",
   "name": "python",
   "nbconvert_exporter": "python",
   "pygments_lexer": "ipython3",
   "version": "3.7.4"
  }
 },
 "nbformat": 4,
 "nbformat_minor": 2
}
