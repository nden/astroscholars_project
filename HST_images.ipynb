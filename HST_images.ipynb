{
 "cells": [
  {
   "cell_type": "markdown",
   "metadata": {},
   "source": [
    "## Download an image from the archive, display it and find sources in it."
   ]
  },
  {
   "cell_type": "markdown",
   "metadata": {},
   "source": [
    "### Outline\n",
    "\n",
    "- Download an image from the Hubble archive (either from the web interface or with astroquery)\n",
    "- Learn about FITS format\n",
    "- Display the image in ds9 (play with ds9 features)\n",
    "- Display in matplotlib\n",
    "- Use photutils.DAOStarFinder to find objects in the image\n",
    "- Save the result to a file."
   ]
  },
  {
   "cell_type": "markdown",
   "metadata": {},
   "source": [
    "### Barbara A. Mikulski Archive For Space Telescopes (MAST)\n",
    "\n",
    "https://mast.stsci.edu/portal/Mashup/Clients/Mast/Portal.html\n",
    "\n",
    "Download a 47 Tuc image with WFC3/UVIS.\n",
    "\n",
    "$ ls HST\n",
    "\n",
    "ib2j02020_asn.fits\tib2j02020_drc.fits\tib2j02020_drz.fits"
   ]
  },
  {
   "cell_type": "markdown",
   "metadata": {},
   "source": [
    "#### FITS Format\n",
    "\n",
    "Flexible Image Transport System (FITS) is an open standard defining a digital file format useful for storage, transmission and processing of data.\n",
    "\n",
    "Image metadata is stored in a human-readable ASCII header. \"metadata\" reffers to data that describes other data. The header describes the data array that follows. A FITS file may contain multiple Header-Data Units (HDUs).\n",
    "\n",
    "The library to read/write FITS is in the **astropy** package."
   ]
  },
  {
   "cell_type": "code",
   "execution_count": null,
   "metadata": {},
   "outputs": [],
   "source": [
    "from astropy.io import fits"
   ]
  },
  {
   "cell_type": "markdown",
   "metadata": {},
   "source": [
    "Let's open the \"drz\" file and look at  its contents "
   ]
  },
  {
   "cell_type": "code",
   "execution_count": null,
   "metadata": {},
   "outputs": [],
   "source": [
    "f = fits.open('ib2j02020_drz.fits')\n",
    "f"
   ]
  },
  {
   "cell_type": "markdown",
   "metadata": {},
   "source": [
    "The `info` method gives an overview of the ocntents of a FITS file:"
   ]
  },
  {
   "cell_type": "code",
   "execution_count": null,
   "metadata": {},
   "outputs": [],
   "source": [
    "f.info()"
   ]
  },
  {
   "cell_type": "markdown",
   "metadata": {},
   "source": [
    "The empty parenthesis \"()\" in the \"Dimensions\" column indicates that the 0-th HDU has no data. This is called the \"Primary Header\" and ususally information common  to all extensions in a file is stored there. FITS headers store \"cards\". A card consists of a 8 char keyword, a value and a comment. "
   ]
  },
  {
   "cell_type": "code",
   "execution_count": null,
   "metadata": {},
   "outputs": [],
   "source": [
    "f[0].header"
   ]
  },
  {
   "cell_type": "markdown",
   "metadata": {},
   "source": [
    "The first extension (or HDU) is called `SCI` and it stores the science data and metadata."
   ]
  },
  {
   "cell_type": "code",
   "execution_count": null,
   "metadata": {},
   "outputs": [],
   "source": [
    "f[1].header"
   ]
  },
  {
   "cell_type": "markdown",
   "metadata": {},
   "source": [
    "FITS headers are like Python dictionaries. We can get the value of a keyword by using th ekeyword as a dict key:"
   ]
  },
  {
   "cell_type": "code",
   "execution_count": null,
   "metadata": {},
   "outputs": [],
   "source": [
    "f[1].header['RA*']"
   ]
  },
  {
   "cell_type": "markdown",
   "metadata": {},
   "source": [
    "**Exercise:**\n",
    "\n",
    "Using wild cards find all keywords starting with `C` in the header of the first HDU."
   ]
  },
  {
   "cell_type": "code",
   "execution_count": null,
   "metadata": {},
   "outputs": [],
   "source": []
  },
  {
   "cell_type": "markdown",
   "metadata": {},
   "source": [
    "To access the data we use the index of the HDU we want to access, followed by the `data` attribute."
   ]
  },
  {
   "cell_type": "code",
   "execution_count": null,
   "metadata": {},
   "outputs": [],
   "source": [
    "f[1].data"
   ]
  },
  {
   "cell_type": "markdown",
   "metadata": {},
   "source": [
    "Let's look at the data. There are several ways to display astronomical images. \n",
    "The most popular one is a command line program called `ds9`.\n",
    "We will look at it later.\n",
    "\n",
    "Now we will use a python package, perhaps the most popular, for plotting, called `matplotlib`."
   ]
  },
  {
   "cell_type": "code",
   "execution_count": null,
   "metadata": {},
   "outputs": [],
   "source": [
    "from matplotlib import pyplot as plt\n",
    "plt.rcParams['image.origin'] = 'lower'\n",
    "plt.rcParams['image.interpolation'] = 'nearest'\n",
    "plt.rcParams['image.cmap'] = 'viridis'\n",
    "\n",
    "# Run the %matplotlib magic command to enable inline plotting\n",
    "# in the current notebook.  Choose one of these:\n",
    "%matplotlib inline\n",
    "%matplotlib notebook\n",
    "\n",
    "plt.imshow(f[1].data)"
   ]
  },
  {
   "cell_type": "markdown",
   "metadata": {},
   "source": [
    "The reason we don't see anything is that that the range of values in the image is too big.\n",
    "From the `matplotlib` documentation we see there are two optional parameters:\n",
    "\n",
    "```\n",
    "vmin, vmax : scalar, optional\n",
    "When using scalar data and no explicit *norm*, *vmin* and *vmax*\n",
    "define the data range that the colormap covers. By default,\n",
    "the colormap covers the complete value range of the supplied\n",
    "data. *vmin*, *vmax* are ignored if the *norm* parameter is used.\n",
    "```"
   ]
  },
  {
   "cell_type": "markdown",
   "metadata": {},
   "source": [
    "In order to \"see\" the image we need to define some reasonable values for the range of data.\n",
    "We can use the `stats` subpackage in `astropy`."
   ]
  },
  {
   "cell_type": "code",
   "execution_count": null,
   "metadata": {},
   "outputs": [],
   "source": [
    "from astropy.stats import sigma_clipped_stats\n",
    "\n",
    "data = f[1].data\n",
    "mean, median, std = sigma_clipped_stats(data, sigma=3.0)  \n",
    "print((mean, median, std))  "
   ]
  },
  {
   "cell_type": "code",
   "execution_count": null,
   "metadata": {},
   "outputs": [],
   "source": [
    "#sigma_clipped_stats?\n"
   ]
  },
  {
   "cell_type": "code",
   "execution_count": null,
   "metadata": {},
   "outputs": [],
   "source": [
    "# Other ways to get statistics of a data array\n",
    "\n",
    "import numpy as np\n",
    "\n",
    "data.mean()\n",
    "np.nanmean(data)"
   ]
  },
  {
   "cell_type": "code",
   "execution_count": null,
   "metadata": {},
   "outputs": [],
   "source": [
    "plt.imshow(f[1].data, vmin=0.1, vmax=.4, aspect=\"auto\")"
   ]
  },
  {
   "cell_type": "markdown",
   "metadata": {},
   "source": [
    "### Find sources in the image\n",
    "\n",
    "We will use the `photutils` package to find the location and flux of sources in the image."
   ]
  },
  {
   "cell_type": "code",
   "execution_count": null,
   "metadata": {},
   "outputs": [],
   "source": [
    "from photutils import DAOStarFinder"
   ]
  },
  {
   "cell_type": "markdown",
   "metadata": {},
   "source": [
    "`fwmh` - full width at half maximum"
   ]
  },
  {
   "cell_type": "code",
   "execution_count": null,
   "metadata": {},
   "outputs": [],
   "source": [
    "from astropy.modeling.models import Gaussian1D\n",
    "import numpy as np\n",
    "gauss = Gaussian1D(10, 4, .5)\n",
    "x = np.arange(10)\n",
    "y = gauss(x)\n",
    "#%matplotlib inline\n",
    "#plt.plot(x, y)\n"
   ]
  },
  {
   "cell_type": "code",
   "execution_count": null,
   "metadata": {},
   "outputs": [],
   "source": [
    "daofind = DAOStarFinder(fwhm=3.0, threshold=5.*std)  \n",
    "sources = daofind(data - median)\n",
    "type(sources)"
   ]
  },
  {
   "cell_type": "code",
   "execution_count": null,
   "metadata": {},
   "outputs": [],
   "source": [
    "for col in sources.colnames:  \n",
    "    sources[col].info.format = '%.8g'  # for consistent table output\n",
    "print(sources)  "
   ]
  },
  {
   "cell_type": "markdown",
   "metadata": {},
   "source": [
    "The result, `sources`, is an astropy table. Let's look at the first row and discuss the columns and data types."
   ]
  },
  {
   "cell_type": "code",
   "execution_count": null,
   "metadata": {},
   "outputs": [],
   "source": [
    "sources[0]"
   ]
  },
  {
   "cell_type": "markdown",
   "metadata": {},
   "source": [
    "### How to get information about a function or an object?"
   ]
  },
  {
   "cell_type": "code",
   "execution_count": null,
   "metadata": {},
   "outputs": [],
   "source": [
    "DAOStarFinder?\n"
   ]
  },
  {
   "cell_type": "code",
   "execution_count": null,
   "metadata": {},
   "outputs": [],
   "source": [
    "type(sources)"
   ]
  },
  {
   "cell_type": "code",
   "execution_count": null,
   "metadata": {},
   "outputs": [],
   "source": [
    "sources.write('sources.csv')"
   ]
  },
  {
   "cell_type": "code",
   "execution_count": null,
   "metadata": {},
   "outputs": [],
   "source": []
  }
 ],
 "metadata": {
  "kernelspec": {
   "display_name": "Python 3",
   "language": "python",
   "name": "python3"
  },
  "language_info": {
   "codemirror_mode": {
    "name": "ipython",
    "version": 3
   },
   "file_extension": ".py",
   "mimetype": "text/x-python",
   "name": "python",
   "nbconvert_exporter": "python",
   "pygments_lexer": "ipython3",
   "version": "3.7.4"
  }
 },
 "nbformat": 4,
 "nbformat_minor": 2
}
